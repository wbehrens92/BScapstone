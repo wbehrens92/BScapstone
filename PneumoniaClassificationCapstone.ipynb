{
 "cells": [
  {
   "cell_type": "markdown",
   "id": "5645f421",
   "metadata": {},
   "source": [
    "* Whitaker Behrens\n",
    "* BrainStation Data Science\n",
    "* Capstone"
   ]
  },
  {
   "cell_type": "markdown",
   "id": "b43f7864",
   "metadata": {},
   "source": [
    "# Pneumonia Image Classification with Neural Networks"
   ]
  },
  {
   "cell_type": "code",
   "execution_count": 99,
   "id": "35dfa209",
   "metadata": {},
   "outputs": [],
   "source": [
    "# import libraries - this will take a couple seconds\n",
    "\n",
    "import numpy as np\n",
    "import pandas as pd\n",
    "import matplotlib.pyplot as plt\n",
    "%matplotlib inline\n",
    "import seaborn as sns\n",
    "import os\n",
    "import cv2\n",
    "import random\n",
    "\n",
    "# ignore warnings !!!UNCOMMENT ONLY WHEN FINISHED!!!\n",
    "# import warnings\n",
    "# warnings.filterwarnings('ignore')\n",
    "\n",
    "# import sklearn libraries\n",
    "\n",
    "import sklearn\n",
    "from sklearn.model_selection import train_test_split\n",
    "from sklearn.metrics import classification_report\n",
    "from sklearn.metrics import confusion_matrix\n",
    "from sklearn.utils import class_weight\n",
    "from sklearn.preprocessing import OneHotEncoder\n",
    "\n",
    "# import SMOTE library\n",
    "\n",
    "from imblearn.over_sampling import SMOTE\n",
    "\n",
    "# import tensorflow libraries\n",
    "\n",
    "import tensorflow as tf\n",
    "from tensorflow.keras.models import Sequential\n",
    "from tensorflow.keras import layers\n",
    "from tensorflow.keras.layers import Dense, Dropout, Activation, Flatten, Conv2D, MaxPooling2D\n",
    "\n",
    "# set random states for reproducability\n",
    "\n",
    "random.seed(42)\n",
    "np.random.seed(42)\n",
    "tf.random.set_seed(42)"
   ]
  },
  {
   "cell_type": "markdown",
   "id": "1db24803",
   "metadata": {},
   "source": [
    "# Importing Images"
   ]
  },
  {
   "cell_type": "code",
   "execution_count": 3,
   "id": "ec1cee38",
   "metadata": {},
   "outputs": [],
   "source": [
    "# import images with labels - this will take roughly 15 seconds\n",
    "\n",
    "data_dir = 'data'\n",
    "categories = ['negative', 'positive']\n",
    "\n",
    "img_size=245\n",
    "\n",
    "labeled_data = []\n",
    "\n",
    "def create_labeled_data():\n",
    "    \n",
    "    for category in categories:\n",
    "    \n",
    "        path = os.path.join(data_dir, category)\n",
    "        class_num = categories.index(category)\n",
    "\n",
    "        for img in os.listdir(path):\n",
    "            try:\n",
    "                img_array = cv2.imread(os.path.join(path,img), cv2.IMREAD_GRAYSCALE)\n",
    "                new_array = cv2.resize(img_array, (img_size, img_size))\n",
    "                labeled_data.append([new_array, class_num])\n",
    "            except Exception:\n",
    "                pass\n",
    "            \n",
    "create_labeled_data()"
   ]
  },
  {
   "cell_type": "code",
   "execution_count": 4,
   "id": "327c132a",
   "metadata": {},
   "outputs": [
    {
     "name": "stdout",
     "output_type": "stream",
     "text": [
      "5856\n"
     ]
    }
   ],
   "source": [
    "# check imported images\n",
    "\n",
    "print(len(labeled_data))"
   ]
  },
  {
   "cell_type": "code",
   "execution_count": 5,
   "id": "a05ded60",
   "metadata": {},
   "outputs": [],
   "source": [
    "# shuffle the images\n",
    "\n",
    "random.shuffle(labeled_data)"
   ]
  },
  {
   "cell_type": "code",
   "execution_count": 6,
   "id": "48e02b13",
   "metadata": {},
   "outputs": [
    {
     "name": "stdout",
     "output_type": "stream",
     "text": [
      "0\n",
      "0\n",
      "1\n",
      "1\n",
      "1\n",
      "1\n",
      "1\n",
      "1\n",
      "1\n",
      "1\n"
     ]
    }
   ],
   "source": [
    "# check labels\n",
    "\n",
    "for image in labeled_data[:10]:\n",
    "    print(image[1])"
   ]
  },
  {
   "cell_type": "code",
   "execution_count": 7,
   "id": "9efc5908",
   "metadata": {},
   "outputs": [],
   "source": [
    "# create X and y variables\n",
    "\n",
    "X = []\n",
    "y = []\n",
    "\n",
    "for image, label in labeled_data:\n",
    "    X.append(image)\n",
    "    y.append(label)\n",
    "\n",
    "# convert to array\n",
    "    \n",
    "X = np.array(X).reshape(-1, img_size, img_size, 1)\n",
    "y = np.array(y)"
   ]
  },
  {
   "cell_type": "code",
   "execution_count": 81,
   "id": "782f34e6",
   "metadata": {},
   "outputs": [
    {
     "name": "stdout",
     "output_type": "stream",
     "text": [
      "(array([0, 1]), array([1583, 4273]))\n"
     ]
    }
   ],
   "source": [
    "# check class distribution\n",
    "\n",
    "print(np.unique(y, return_counts=True))"
   ]
  },
  {
   "cell_type": "code",
   "execution_count": 94,
   "id": "73c522f0",
   "metadata": {},
   "outputs": [
    {
     "data": {
      "image/png": "[encoded data removed]",
      "text/plain": [
       "<Figure size 720x360 with 1 Axes>"
      ]
     },
     "metadata": {
      "needs_background": "light"
     },
     "output_type": "display_data"
    }
   ],
   "source": [
    "# visualize class distribution\n",
    "\n",
    "plt.figure(figsize=(10,5))\n",
    "plt.bar(np.unique(y, return_counts=True)[0], np.unique(y, return_counts=True)[1])\n",
    "plt.title('Class Distribution in Pneumonia X-Ray Images', size=20)\n",
    "plt.xlabel('Class (Negative, Positive)', size=15)\n",
    "plt.ylabel('Count', size=15)\n",
    "plt.xticks([])\n",
    "plt.show()"
   ]
  },
  {
   "cell_type": "code",
   "execution_count": 8,
   "id": "1b05b428",
   "metadata": {},
   "outputs": [],
   "source": [
    "# split the data\n",
    "\n",
    "X_train, X_test, y_train, y_test = train_test_split(X, y, test_size=0.25, random_state=42)"
   ]
  },
  {
   "cell_type": "code",
   "execution_count": 9,
   "id": "7d406785",
   "metadata": {},
   "outputs": [
    {
     "name": "stdout",
     "output_type": "stream",
     "text": [
      "(4392, 245, 245, 1) (4392,)\n",
      "(1464, 245, 245, 1) (1464,)\n"
     ]
    }
   ],
   "source": [
    "# check shapes of split sets\n",
    "\n",
    "print(X_train.shape, y_train.shape)\n",
    "print(X_test.shape, y_test.shape)"
   ]
  },
  {
   "cell_type": "code",
   "execution_count": 10,
   "id": "88d46506",
   "metadata": {},
   "outputs": [],
   "source": [
    "# scale\n",
    "\n",
    "X_train = X_train/255\n",
    "X_test = X_test/255"
   ]
  },
  {
   "cell_type": "code",
   "execution_count": 11,
   "id": "5174a40a",
   "metadata": {},
   "outputs": [
    {
     "name": "stdout",
     "output_type": "stream",
     "text": [
      "X range: 0.0-1.0\n"
     ]
    }
   ],
   "source": [
    "# check pixel range\n",
    "\n",
    "print(f'X range: {X_train.min()}-{X_train.max()}')"
   ]
  },
  {
   "cell_type": "markdown",
   "id": "6a800a7c",
   "metadata": {},
   "source": [
    "# Initial Modeling"
   ]
  },
  {
   "cell_type": "code",
   "execution_count": 12,
   "id": "e82dae6e",
   "metadata": {},
   "outputs": [
    {
     "name": "stdout",
     "output_type": "stream",
     "text": [
      "Model: \"sequential\"\n",
      "_________________________________________________________________\n",
      "Layer (type)                 Output Shape              Param #   \n",
      "=================================================================\n",
      "conv2d (Conv2D)              (None, 243, 243, 32)      320       \n",
      "_________________________________________________________________\n",
      "max_pooling2d (MaxPooling2D) (None, 121, 121, 32)      0         \n",
      "_________________________________________________________________\n",
      "dropout (Dropout)            (None, 121, 121, 32)      0         \n",
      "_________________________________________________________________\n",
      "conv2d_1 (Conv2D)            (None, 119, 119, 64)      18496     \n",
      "_________________________________________________________________\n",
      "max_pooling2d_1 (MaxPooling2 (None, 59, 59, 64)        0         \n",
      "_________________________________________________________________\n",
      "dropout_1 (Dropout)          (None, 59, 59, 64)        0         \n",
      "_________________________________________________________________\n",
      "flatten (Flatten)            (None, 222784)            0         \n",
      "_________________________________________________________________\n",
      "dense (Dense)                (None, 128)               28516480  \n",
      "_________________________________________________________________\n",
      "dense_1 (Dense)              (None, 64)                8256      \n",
      "_________________________________________________________________\n",
      "dense_2 (Dense)              (None, 1)                 65        \n",
      "=================================================================\n",
      "Total params: 28,543,617\n",
      "Trainable params: 28,543,617\n",
      "Non-trainable params: 0\n",
      "_________________________________________________________________\n"
     ]
    },
    {
     "name": "stderr",
     "output_type": "stream",
     "text": [
      "2022-03-30 11:49:13.838288: I tensorflow/core/platform/cpu_feature_guard.cc:142] This TensorFlow binary is optimized with oneAPI Deep Neural Network Library (oneDNN) to use the following CPU instructions in performance-critical operations:  SSE4.1 SSE4.2\n",
      "To enable them in other operations, rebuild TensorFlow with the appropriate compiler flags.\n"
     ]
    }
   ],
   "source": [
    "# instantiate model\n",
    "\n",
    "basic_model = Sequential()\n",
    "\n",
    "# add layers with convolution, pooling, and dropout\n",
    "\n",
    "basic_model.add(Conv2D(32, kernel_size=(3, 3), activation = 'relu', input_shape = (245, 245, 1)))\n",
    "basic_model.add(MaxPooling2D(pool_size=(2, 2)))\n",
    "basic_model.add(Dropout(0.25))\n",
    "\n",
    "basic_model.add(Conv2D(64, (3, 3), activation='relu'))\n",
    "basic_model.add(MaxPooling2D(pool_size=(2, 2)))\n",
    "basic_model.add(Dropout(0.25))\n",
    "\n",
    "# add flatten layer\n",
    "\n",
    "basic_model.add(Flatten())\n",
    "\n",
    "# add dense layers\n",
    "\n",
    "basic_model.add(Dense(128, activation='relu'))\n",
    "basic_model.add(Dense(64, activation='relu'))\n",
    "basic_model.add(Dense(1, activation='sigmoid'))\n",
    "\n",
    "# check summary\n",
    "\n",
    "basic_model.summary()"
   ]
  },
  {
   "cell_type": "code",
   "execution_count": 13,
   "id": "8fe2e8f7",
   "metadata": {},
   "outputs": [],
   "source": [
    "# compile\n",
    "\n",
    "basic_model.compile(loss = 'binary_crossentropy',\n",
    "                    optimizer = 'Adam',\n",
    "                    metrics = ['accuracy'])"
   ]
  },
  {
   "cell_type": "code",
   "execution_count": 14,
   "id": "8636997a",
   "metadata": {},
   "outputs": [
    {
     "name": "stderr",
     "output_type": "stream",
     "text": [
      "2022-03-30 11:49:31.327131: I tensorflow/compiler/mlir/mlir_graph_optimization_pass.cc:116] None of the MLIR optimization passes are enabled (registered 2)\n"
     ]
    },
    {
     "name": "stdout",
     "output_type": "stream",
     "text": [
      "Epoch 1/10\n",
      "30/30 [==============================] - 110s 4s/step - loss: 2.1607 - accuracy: 0.6275 - val_loss: 0.5789 - val_accuracy: 0.7386\n",
      "Epoch 2/10\n",
      "30/30 [==============================] - 109s 4s/step - loss: 0.5164 - accuracy: 0.7427 - val_loss: 0.2830 - val_accuracy: 0.8924\n",
      "Epoch 3/10\n",
      "30/30 [==============================] - 108s 4s/step - loss: 0.2671 - accuracy: 0.8771 - val_loss: 0.1953 - val_accuracy: 0.9276\n",
      "Epoch 4/10\n",
      "30/30 [==============================] - 110s 4s/step - loss: 0.1885 - accuracy: 0.9260 - val_loss: 0.1675 - val_accuracy: 0.9386\n",
      "Epoch 5/10\n",
      "30/30 [==============================] - 108s 4s/step - loss: 0.1398 - accuracy: 0.9447 - val_loss: 0.1517 - val_accuracy: 0.9421\n",
      "Epoch 6/10\n",
      "30/30 [==============================] - 108s 4s/step - loss: 0.1239 - accuracy: 0.9542 - val_loss: 0.1642 - val_accuracy: 0.9414\n",
      "Epoch 7/10\n",
      "30/30 [==============================] - 109s 4s/step - loss: 0.1268 - accuracy: 0.9556 - val_loss: 0.1349 - val_accuracy: 0.9503\n",
      "Epoch 8/10\n",
      "30/30 [==============================] - 108s 4s/step - loss: 0.0907 - accuracy: 0.9661 - val_loss: 0.2125 - val_accuracy: 0.9193\n",
      "Epoch 9/10\n",
      "30/30 [==============================] - 108s 4s/step - loss: 0.1196 - accuracy: 0.9562 - val_loss: 0.1460 - val_accuracy: 0.9469\n",
      "Epoch 10/10\n",
      "30/30 [==============================] - 107s 4s/step - loss: 0.1118 - accuracy: 0.9634 - val_loss: 0.1356 - val_accuracy: 0.9517\n"
     ]
    },
    {
     "data": {
      "text/plain": [
       "<tensorflow.python.keras.callbacks.History at 0x7fb5e33d2bb0>"
      ]
     },
     "execution_count": 14,
     "metadata": {},
     "output_type": "execute_result"
    }
   ],
   "source": [
    "# train with 0.33 validation_split - this will take 10-15 minutes\n",
    "\n",
    "basic_model.fit(X_train, y_train,\n",
    "                batch_size = 100,\n",
    "                epochs = 10,\n",
    "                verbose = 1,\n",
    "                validation_split = 0.33)"
   ]
  },
  {
   "cell_type": "markdown",
   "id": "1e911025",
   "metadata": {},
   "source": [
    "# Evaluating First Model"
   ]
  },
  {
   "cell_type": "code",
   "execution_count": 16,
   "id": "7d7d04e3",
   "metadata": {},
   "outputs": [
    {
     "name": "stdout",
     "output_type": "stream",
     "text": [
      "Test loss: 0.14625588059425354\n",
      "Test accuracy: 0.943306028842926\n"
     ]
    }
   ],
   "source": [
    "# test score - this will take a few seconds\n",
    "\n",
    "score = basic_model.evaluate(X_test, y_test, verbose=0)\n",
    "\n",
    "print(f'Test loss: {score[0]}')\n",
    "print(f'Test accuracy: {score[1]}')"
   ]
  },
  {
   "cell_type": "code",
   "execution_count": 17,
   "id": "2852898f",
   "metadata": {},
   "outputs": [
    {
     "name": "stderr",
     "output_type": "stream",
     "text": [
      "/opt/anaconda3/envs/deeplearning/lib/python3.8/site-packages/tensorflow/python/keras/engine/sequential.py:450: UserWarning: `model.predict_classes()` is deprecated and will be removed after 2021-01-01. Please use instead:* `np.argmax(model.predict(x), axis=-1)`,   if your model does multi-class classification   (e.g. if it uses a `softmax` last-layer activation).* `(model.predict(x) > 0.5).astype(\"int32\")`,   if your model does binary classification   (e.g. if it uses a `sigmoid` last-layer activation).\n",
      "  warnings.warn('`model.predict_classes()` is deprecated and '\n"
     ]
    }
   ],
   "source": [
    "# get predictions - this will take a few seconds\n",
    "\n",
    "y_pred = basic_model.predict_classes(X_test)"
   ]
  },
  {
   "cell_type": "code",
   "execution_count": 18,
   "id": "7c567548",
   "metadata": {},
   "outputs": [
    {
     "data": {
      "text/html": [
       "<div>\n",
       "<style scoped>\n",
       "    .dataframe tbody tr th:only-of-type {\n",
       "        vertical-align: middle;\n",
       "    }\n",
       "\n",
       "    .dataframe tbody tr th {\n",
       "        vertical-align: top;\n",
       "    }\n",
       "\n",
       "    .dataframe thead th {\n",
       "        text-align: right;\n",
       "    }\n",
       "</style>\n",
       "<table border=\"1\" class=\"dataframe\">\n",
       "  <thead>\n",
       "    <tr style=\"text-align: right;\">\n",
       "      <th></th>\n",
       "      <th>Predicted Negative</th>\n",
       "      <th>Predicted Positive</th>\n",
       "    </tr>\n",
       "  </thead>\n",
       "  <tbody>\n",
       "    <tr>\n",
       "      <th>True Negative</th>\n",
       "      <td>379</td>\n",
       "      <td>34</td>\n",
       "    </tr>\n",
       "    <tr>\n",
       "      <th>True Positive</th>\n",
       "      <td>49</td>\n",
       "      <td>1002</td>\n",
       "    </tr>\n",
       "  </tbody>\n",
       "</table>\n",
       "</div>"
      ],
      "text/plain": [
       "               Predicted Negative  Predicted Positive\n",
       "True Negative                 379                  34\n",
       "True Positive                  49                1002"
      ]
     },
     "execution_count": 18,
     "metadata": {},
     "output_type": "execute_result"
    }
   ],
   "source": [
    "# viusualize confusion matrix\n",
    "\n",
    "cm = confusion_matrix(y_test, y_pred)\n",
    "\n",
    "cm_df = pd.DataFrame(\n",
    "    cm,\n",
    "    columns=['Predicted Negative', 'Predicted Positive'],\n",
    "    index=['True Negative', 'True Positive']\n",
    ")\n",
    "\n",
    "cm_df"
   ]
  },
  {
   "cell_type": "code",
   "execution_count": 19,
   "id": "58073443",
   "metadata": {},
   "outputs": [
    {
     "name": "stdout",
     "output_type": "stream",
     "text": [
      "Model precision: 96.72\n",
      "Model recall: 95.34\n"
     ]
    }
   ],
   "source": [
    "# calculate precision and recall\n",
    "\n",
    "tp = cm[1,1]\n",
    "tn = cm[0,0]\n",
    "fp = cm[0,1]\n",
    "fn = cm[1,0]\n",
    "\n",
    "prec = round(tp/(tp+fp), 4)*100\n",
    "rec = round(tp/(tp+fn), 4)*100\n",
    "\n",
    "print(f'Model precision: {prec}')\n",
    "print(f'Model recall: {rec}')"
   ]
  },
  {
   "cell_type": "markdown",
   "id": "3b4ccde0",
   "metadata": {},
   "source": [
    "# Second Model with Weighted Classes"
   ]
  },
  {
   "cell_type": "code",
   "execution_count": 20,
   "id": "d4a1292b",
   "metadata": {},
   "outputs": [
    {
     "name": "stderr",
     "output_type": "stream",
     "text": [
      "/opt/anaconda3/envs/deeplearning/lib/python3.8/site-packages/sklearn/utils/validation.py:70: FutureWarning: Pass classes=[0 1], y=[0 1 1 ... 1 1 1] as keyword args. From version 1.0 (renaming of 0.25) passing these as positional arguments will result in an error\n",
      "  warnings.warn(f\"Pass {args_msg} as keyword args. From version \"\n"
     ]
    },
    {
     "data": {
      "text/plain": [
       "array([1.87692308, 0.68156425])"
      ]
     },
     "execution_count": 20,
     "metadata": {},
     "output_type": "execute_result"
    }
   ],
   "source": [
    "# calculate balanced class weights\n",
    "\n",
    "class_weights = class_weight.compute_class_weight('balanced',\n",
    "                                                  np.unique(y_train),\n",
    "                                                  y_train)\n",
    "\n",
    "# check\n",
    "\n",
    "class_weights"
   ]
  },
  {
   "cell_type": "code",
   "execution_count": 21,
   "id": "4612dbbd",
   "metadata": {},
   "outputs": [
    {
     "data": {
      "text/plain": [
       "{0: 1.876923076923077, 1: 0.6815642458100558}"
      ]
     },
     "execution_count": 21,
     "metadata": {},
     "output_type": "execute_result"
    }
   ],
   "source": [
    "# convert class_weights to dict\n",
    "\n",
    "class_weights = dict(enumerate(class_weights))\n",
    "\n",
    "# check\n",
    "\n",
    "class_weights"
   ]
  },
  {
   "cell_type": "code",
   "execution_count": 28,
   "id": "e1e6cdf3",
   "metadata": {},
   "outputs": [
    {
     "name": "stdout",
     "output_type": "stream",
     "text": [
      "Model: \"sequential_3\"\n",
      "_________________________________________________________________\n",
      "Layer (type)                 Output Shape              Param #   \n",
      "=================================================================\n",
      "conv2d_6 (Conv2D)            (None, 243, 243, 32)      320       \n",
      "_________________________________________________________________\n",
      "max_pooling2d_6 (MaxPooling2 (None, 121, 121, 32)      0         \n",
      "_________________________________________________________________\n",
      "dropout_6 (Dropout)          (None, 121, 121, 32)      0         \n",
      "_________________________________________________________________\n",
      "conv2d_7 (Conv2D)            (None, 119, 119, 64)      18496     \n",
      "_________________________________________________________________\n",
      "max_pooling2d_7 (MaxPooling2 (None, 59, 59, 64)        0         \n",
      "_________________________________________________________________\n",
      "dropout_7 (Dropout)          (None, 59, 59, 64)        0         \n",
      "_________________________________________________________________\n",
      "flatten_3 (Flatten)          (None, 222784)            0         \n",
      "_________________________________________________________________\n",
      "dense_9 (Dense)              (None, 128)               28516480  \n",
      "_________________________________________________________________\n",
      "dense_10 (Dense)             (None, 64)                8256      \n",
      "_________________________________________________________________\n",
      "dense_11 (Dense)             (None, 1)                 65        \n",
      "=================================================================\n",
      "Total params: 28,543,617\n",
      "Trainable params: 28,543,617\n",
      "Non-trainable params: 0\n",
      "_________________________________________________________________\n"
     ]
    }
   ],
   "source": [
    "# instantiate new model\n",
    "\n",
    "weighted_model = Sequential()\n",
    "\n",
    "# add layers\n",
    "\n",
    "weighted_model.add(Conv2D(32, kernel_size=(3, 3), activation = 'relu', input_shape = (245, 245, 1)))\n",
    "weighted_model.add(MaxPooling2D(pool_size=(2, 2)))\n",
    "weighted_model.add(Dropout(0.25))\n",
    "\n",
    "weighted_model.add(Conv2D(64, (3, 3), activation='relu'))\n",
    "weighted_model.add(MaxPooling2D(pool_size=(2, 2)))\n",
    "weighted_model.add(Dropout(0.25))\n",
    "\n",
    "# flatten\n",
    "\n",
    "weighted_model.add(Flatten())\n",
    "\n",
    "# add dense layers\n",
    "\n",
    "weighted_model.add(Dense(128, activation='relu'))\n",
    "weighted_model.add(Dense(64, activation='relu'))\n",
    "weighted_model.add(Dense(1, activation='sigmoid'))\n",
    "\n",
    "weighted_model.summary()"
   ]
  },
  {
   "cell_type": "code",
   "execution_count": 29,
   "id": "1dc5ae1a",
   "metadata": {},
   "outputs": [],
   "source": [
    "# compile\n",
    "\n",
    "weighted_model.compile(loss = 'binary_crossentropy',\n",
    "                    optimizer = 'Adam',\n",
    "                    metrics = ['accuracy'])"
   ]
  },
  {
   "cell_type": "code",
   "execution_count": 30,
   "id": "1d39ef0d",
   "metadata": {},
   "outputs": [
    {
     "name": "stdout",
     "output_type": "stream",
     "text": [
      "Epoch 1/10\n",
      "30/30 [==============================] - 119s 4s/step - loss: 2.3106 - accuracy: 0.5053 - val_loss: 0.6847 - val_accuracy: 0.6814\n",
      "Epoch 2/10\n",
      "30/30 [==============================] - 120s 4s/step - loss: 0.5866 - accuracy: 0.7941 - val_loss: 0.2153 - val_accuracy: 0.9124\n",
      "Epoch 3/10\n",
      "30/30 [==============================] - 122s 4s/step - loss: 0.2774 - accuracy: 0.8773 - val_loss: 0.2406 - val_accuracy: 0.9090\n",
      "Epoch 4/10\n",
      "30/30 [==============================] - 115s 4s/step - loss: 0.1865 - accuracy: 0.9251 - val_loss: 0.1623 - val_accuracy: 0.9400\n",
      "Epoch 5/10\n",
      "30/30 [==============================] - 116s 4s/step - loss: 0.1397 - accuracy: 0.9472 - val_loss: 0.1756 - val_accuracy: 0.9359\n",
      "Epoch 6/10\n",
      "30/30 [==============================] - 112s 4s/step - loss: 0.1163 - accuracy: 0.9597 - val_loss: 0.1480 - val_accuracy: 0.9434\n",
      "Epoch 7/10\n",
      "30/30 [==============================] - 108s 4s/step - loss: 0.1235 - accuracy: 0.9515 - val_loss: 0.1288 - val_accuracy: 0.9490\n",
      "Epoch 8/10\n",
      "30/30 [==============================] - 108s 4s/step - loss: 0.0743 - accuracy: 0.9757 - val_loss: 0.1616 - val_accuracy: 0.9414\n",
      "Epoch 9/10\n",
      "30/30 [==============================] - 108s 4s/step - loss: 0.0696 - accuracy: 0.9745 - val_loss: 0.1555 - val_accuracy: 0.9455\n",
      "Epoch 10/10\n",
      "30/30 [==============================] - 108s 4s/step - loss: 0.0505 - accuracy: 0.9771 - val_loss: 0.1554 - val_accuracy: 0.9524\n"
     ]
    },
    {
     "data": {
      "text/plain": [
       "<tensorflow.python.keras.callbacks.History at 0x7fb5e2cb9850>"
      ]
     },
     "execution_count": 30,
     "metadata": {},
     "output_type": "execute_result"
    }
   ],
   "source": [
    "# train - this will take 10-15 minutes\n",
    "\n",
    "weighted_model.fit(X_train, y_train,\n",
    "                batch_size = 100,\n",
    "                epochs = 10,\n",
    "                verbose = 1,\n",
    "                validation_split = 0.33,\n",
    "                class_weight=class_weights)"
   ]
  },
  {
   "cell_type": "code",
   "execution_count": 31,
   "id": "4b0dfbfa",
   "metadata": {},
   "outputs": [
    {
     "name": "stdout",
     "output_type": "stream",
     "text": [
      "Basic model test accuracy: 0.943306028842926\n",
      "Weighted model test accuracy: 0.9446721076965332\n"
     ]
    }
   ],
   "source": [
    "# evaluate - this will take a few seconds\n",
    "\n",
    "weighted_score = weighted_model.evaluate(X_test, y_test, verbose=0)\n",
    "\n",
    "print(f'Basic model test accuracy: {score[1]}')\n",
    "print(f'Weighted model test accuracy: {weighted_score[1]}')"
   ]
  },
  {
   "cell_type": "code",
   "execution_count": 33,
   "id": "cec4be5f",
   "metadata": {},
   "outputs": [
    {
     "name": "stderr",
     "output_type": "stream",
     "text": [
      "/opt/anaconda3/envs/deeplearning/lib/python3.8/site-packages/tensorflow/python/keras/engine/sequential.py:450: UserWarning: `model.predict_classes()` is deprecated and will be removed after 2021-01-01. Please use instead:* `np.argmax(model.predict(x), axis=-1)`,   if your model does multi-class classification   (e.g. if it uses a `softmax` last-layer activation).* `(model.predict(x) > 0.5).astype(\"int32\")`,   if your model does binary classification   (e.g. if it uses a `sigmoid` last-layer activation).\n",
      "  warnings.warn('`model.predict_classes()` is deprecated and '\n"
     ]
    },
    {
     "data": {
      "text/html": [
       "<div>\n",
       "<style scoped>\n",
       "    .dataframe tbody tr th:only-of-type {\n",
       "        vertical-align: middle;\n",
       "    }\n",
       "\n",
       "    .dataframe tbody tr th {\n",
       "        vertical-align: top;\n",
       "    }\n",
       "\n",
       "    .dataframe thead th {\n",
       "        text-align: right;\n",
       "    }\n",
       "</style>\n",
       "<table border=\"1\" class=\"dataframe\">\n",
       "  <thead>\n",
       "    <tr style=\"text-align: right;\">\n",
       "      <th></th>\n",
       "      <th>Predicted Negative</th>\n",
       "      <th>Predicted Positive</th>\n",
       "    </tr>\n",
       "  </thead>\n",
       "  <tbody>\n",
       "    <tr>\n",
       "      <th>True Negative</th>\n",
       "      <td>387</td>\n",
       "      <td>26</td>\n",
       "    </tr>\n",
       "    <tr>\n",
       "      <th>True Positive</th>\n",
       "      <td>55</td>\n",
       "      <td>996</td>\n",
       "    </tr>\n",
       "  </tbody>\n",
       "</table>\n",
       "</div>"
      ],
      "text/plain": [
       "               Predicted Negative  Predicted Positive\n",
       "True Negative                 387                  26\n",
       "True Positive                  55                 996"
      ]
     },
     "execution_count": 33,
     "metadata": {},
     "output_type": "execute_result"
    }
   ],
   "source": [
    "# predict and visualize confusion matrix - this will take a few seconds\n",
    "\n",
    "y_pred_weight = weighted_model.predict_classes(X_test)\n",
    "\n",
    "cm_weight = confusion_matrix(y_test, y_pred_weight)\n",
    "\n",
    "cm_weight_df = pd.DataFrame(\n",
    "    cm_weight,\n",
    "    columns=['Predicted Negative', 'Predicted Positive'],\n",
    "    index=['True Negative', 'True Positive']\n",
    ")\n",
    "\n",
    "cm_weight_df"
   ]
  },
  {
   "cell_type": "code",
   "execution_count": 34,
   "id": "e2aead21",
   "metadata": {},
   "outputs": [
    {
     "name": "stdout",
     "output_type": "stream",
     "text": [
      "Original model precision, recall: (96.72, 95.34)\n",
      "Weighted model precision, recall: (97.46000000000001, 94.77)\n"
     ]
    }
   ],
   "source": [
    "# precision and recall\n",
    "\n",
    "tp_w = cm_weight[1,1]\n",
    "tn_w = cm_weight[0,0]\n",
    "fp_w = cm_weight[0,1]\n",
    "fn_w = cm_weight[1,0]\n",
    "\n",
    "prec_weight = round(tp_w/(tp_w+fp_w), 4)*100\n",
    "rec_weight = round(tp_w/(tp_w+fn_w), 4)*100\n",
    "\n",
    "print(f'Original model precision, recall: {prec, rec}')\n",
    "print(f'Weighted model precision, recall: {prec_weight, rec_weight}')"
   ]
  },
  {
   "cell_type": "markdown",
   "id": "f8860b28",
   "metadata": {},
   "source": [
    "# Third Model with SMOTE"
   ]
  },
  {
   "cell_type": "code",
   "execution_count": 35,
   "id": "29de5bcd",
   "metadata": {},
   "outputs": [],
   "source": [
    "# instantiate SMOTE sampler\n",
    "\n",
    "sm = SMOTE(random_state=42)"
   ]
  },
  {
   "cell_type": "code",
   "execution_count": 36,
   "id": "f6375495",
   "metadata": {},
   "outputs": [],
   "source": [
    "# reshape train array for SMOTE\n",
    "\n",
    "X_train_reshaped = X_train.reshape(4392, 60025)"
   ]
  },
  {
   "cell_type": "code",
   "execution_count": 37,
   "id": "451272f2",
   "metadata": {},
   "outputs": [],
   "source": [
    "# fit and resample - this will take a few seconds\n",
    "\n",
    "X_smote, y_smote = sm.fit_resample(X_train_reshaped, y_train)"
   ]
  },
  {
   "cell_type": "code",
   "execution_count": 38,
   "id": "cbc104d1",
   "metadata": {},
   "outputs": [
    {
     "name": "stdout",
     "output_type": "stream",
     "text": [
      "(6444, 245, 245, 1)\n",
      "(6444,)\n"
     ]
    }
   ],
   "source": [
    "# reshape smote array for model\n",
    "\n",
    "X_smote = X_smote.reshape(X_smote.shape[0], 245, 245, 1)\n",
    "\n",
    "# check\n",
    "\n",
    "print(X_smote.shape)\n",
    "print(y_smote.shape)"
   ]
  },
  {
   "cell_type": "code",
   "execution_count": 96,
   "id": "328d95fd",
   "metadata": {},
   "outputs": [
    {
     "name": "stdout",
     "output_type": "stream",
     "text": [
      "(array([0, 1]), array([3222, 3222]))\n"
     ]
    },
    {
     "data": {
      "image/png": "[encoded data removed]",
      "text/plain": [
       "<Figure size 720x360 with 1 Axes>"
      ]
     },
     "metadata": {
      "needs_background": "light"
     },
     "output_type": "display_data"
    }
   ],
   "source": [
    "# recheck class distribution\n",
    "\n",
    "print(np.unique(y_smote, return_counts=True))\n",
    "\n",
    "# visualize\n",
    "\n",
    "plt.figure(figsize=(10,5))\n",
    "plt.bar(np.unique(y_smote, return_counts=True)[0], np.unique(y_smote, return_counts=True)[1])\n",
    "plt.title('Class Distribution in SMOTE Training Sample', size=20)\n",
    "plt.xlabel('Class (Negative, Positive)', size=15)\n",
    "plt.ylabel('Count', size=15)\n",
    "plt.xticks([])\n",
    "plt.show()"
   ]
  },
  {
   "cell_type": "code",
   "execution_count": 39,
   "id": "697dc54d",
   "metadata": {
    "scrolled": false
   },
   "outputs": [
    {
     "name": "stdout",
     "output_type": "stream",
     "text": [
      "Model: \"sequential_4\"\n",
      "_________________________________________________________________\n",
      "Layer (type)                 Output Shape              Param #   \n",
      "=================================================================\n",
      "conv2d_8 (Conv2D)            (None, 243, 243, 32)      320       \n",
      "_________________________________________________________________\n",
      "max_pooling2d_8 (MaxPooling2 (None, 121, 121, 32)      0         \n",
      "_________________________________________________________________\n",
      "dropout_8 (Dropout)          (None, 121, 121, 32)      0         \n",
      "_________________________________________________________________\n",
      "conv2d_9 (Conv2D)            (None, 119, 119, 64)      18496     \n",
      "_________________________________________________________________\n",
      "max_pooling2d_9 (MaxPooling2 (None, 59, 59, 64)        0         \n",
      "_________________________________________________________________\n",
      "dropout_9 (Dropout)          (None, 59, 59, 64)        0         \n",
      "_________________________________________________________________\n",
      "flatten_4 (Flatten)          (None, 222784)            0         \n",
      "_________________________________________________________________\n",
      "dense_12 (Dense)             (None, 128)               28516480  \n",
      "_________________________________________________________________\n",
      "dense_13 (Dense)             (None, 64)                8256      \n",
      "_________________________________________________________________\n",
      "dense_14 (Dense)             (None, 1)                 65        \n",
      "=================================================================\n",
      "Total params: 28,543,617\n",
      "Trainable params: 28,543,617\n",
      "Non-trainable params: 0\n",
      "_________________________________________________________________\n"
     ]
    }
   ],
   "source": [
    "# instantiate new model\n",
    "\n",
    "smote_model = Sequential()\n",
    "\n",
    "# add layers\n",
    "\n",
    "smote_model.add(Conv2D(32, kernel_size=(3, 3), activation = 'relu', input_shape = (245, 245, 1)))\n",
    "smote_model.add(MaxPooling2D(pool_size=(2, 2)))\n",
    "smote_model.add(Dropout(0.25))\n",
    "\n",
    "smote_model.add(Conv2D(64, (3, 3), activation='relu'))\n",
    "smote_model.add(MaxPooling2D(pool_size=(2, 2)))\n",
    "smote_model.add(Dropout(0.25))\n",
    "\n",
    "# flatten\n",
    "\n",
    "smote_model.add(Flatten())\n",
    "\n",
    "# add dense layers\n",
    "\n",
    "smote_model.add(Dense(128, activation='relu'))\n",
    "smote_model.add(Dense(64, activation='relu'))\n",
    "smote_model.add(Dense(1, activation='sigmoid'))\n",
    "\n",
    "# summary\n",
    "\n",
    "smote_model.summary()"
   ]
  },
  {
   "cell_type": "code",
   "execution_count": 40,
   "id": "e8194de7",
   "metadata": {},
   "outputs": [],
   "source": [
    "# compile\n",
    "\n",
    "smote_model.compile(loss = 'binary_crossentropy',\n",
    "                    optimizer = 'Adam',\n",
    "                    metrics = ['accuracy'])"
   ]
  },
  {
   "cell_type": "code",
   "execution_count": 41,
   "id": "b089e64e",
   "metadata": {},
   "outputs": [
    {
     "name": "stdout",
     "output_type": "stream",
     "text": [
      "Epoch 1/10\n",
      "44/44 [==============================] - 174s 4s/step - loss: 1.8316 - accuracy: 0.6263 - val_loss: 0.6419 - val_accuracy: 0.8590\n",
      "Epoch 2/10\n",
      "44/44 [==============================] - 176s 4s/step - loss: 0.3237 - accuracy: 0.8655 - val_loss: 0.3787 - val_accuracy: 0.8599\n",
      "Epoch 3/10\n",
      "44/44 [==============================] - 175s 4s/step - loss: 0.1512 - accuracy: 0.9390 - val_loss: 0.2908 - val_accuracy: 0.8900\n",
      "Epoch 4/10\n",
      "44/44 [==============================] - 174s 4s/step - loss: 0.1276 - accuracy: 0.9489 - val_loss: 0.2972 - val_accuracy: 0.8905\n",
      "Epoch 5/10\n",
      "44/44 [==============================] - 175s 4s/step - loss: 0.1245 - accuracy: 0.9513 - val_loss: 0.2777 - val_accuracy: 0.8966\n",
      "Epoch 6/10\n",
      "44/44 [==============================] - 176s 4s/step - loss: 0.0894 - accuracy: 0.9637 - val_loss: 0.3423 - val_accuracy: 0.8641\n",
      "Epoch 7/10\n",
      "44/44 [==============================] - 169s 4s/step - loss: 0.0925 - accuracy: 0.9661 - val_loss: 0.2508 - val_accuracy: 0.9022\n",
      "Epoch 8/10\n",
      "44/44 [==============================] - 164s 4s/step - loss: 0.0837 - accuracy: 0.9694 - val_loss: 0.2747 - val_accuracy: 0.9328\n",
      "Epoch 9/10\n",
      "44/44 [==============================] - 168s 4s/step - loss: 0.0638 - accuracy: 0.9821 - val_loss: 0.4925 - val_accuracy: 0.7786\n",
      "Epoch 10/10\n",
      "44/44 [==============================] - 168s 4s/step - loss: 0.0775 - accuracy: 0.9713 - val_loss: 0.0580 - val_accuracy: 0.9906\n"
     ]
    },
    {
     "data": {
      "text/plain": [
       "<tensorflow.python.keras.callbacks.History at 0x7fb6487c7640>"
      ]
     },
     "execution_count": 41,
     "metadata": {},
     "output_type": "execute_result"
    }
   ],
   "source": [
    "# train - this will take about 30 minutes\n",
    "\n",
    "smote_model.fit(X_smote, y_smote,\n",
    "                batch_size = 100,\n",
    "                epochs = 10,\n",
    "                verbose = 1,\n",
    "                validation_split = 0.33)"
   ]
  },
  {
   "cell_type": "code",
   "execution_count": 42,
   "id": "854265a8",
   "metadata": {},
   "outputs": [
    {
     "name": "stdout",
     "output_type": "stream",
     "text": [
      "Basic model test accuracy: 0.943306028842926\n",
      "SMOTE model test accuracy: 0.9228141903877258\n"
     ]
    }
   ],
   "source": [
    "# evaluate - this will take a few seconds\n",
    "\n",
    "smote_score = smote_model.evaluate(X_test, y_test, verbose=0)\n",
    "\n",
    "print(f'Basic model test accuracy: {score[1]}')\n",
    "print(f'SMOTE model test accuracy: {smote_score[1]}')"
   ]
  },
  {
   "cell_type": "code",
   "execution_count": 43,
   "id": "0354a7ba",
   "metadata": {},
   "outputs": [
    {
     "name": "stderr",
     "output_type": "stream",
     "text": [
      "/opt/anaconda3/envs/deeplearning/lib/python3.8/site-packages/tensorflow/python/keras/engine/sequential.py:450: UserWarning: `model.predict_classes()` is deprecated and will be removed after 2021-01-01. Please use instead:* `np.argmax(model.predict(x), axis=-1)`,   if your model does multi-class classification   (e.g. if it uses a `softmax` last-layer activation).* `(model.predict(x) > 0.5).astype(\"int32\")`,   if your model does binary classification   (e.g. if it uses a `sigmoid` last-layer activation).\n",
      "  warnings.warn('`model.predict_classes()` is deprecated and '\n"
     ]
    },
    {
     "data": {
      "text/html": [
       "<div>\n",
       "<style scoped>\n",
       "    .dataframe tbody tr th:only-of-type {\n",
       "        vertical-align: middle;\n",
       "    }\n",
       "\n",
       "    .dataframe tbody tr th {\n",
       "        vertical-align: top;\n",
       "    }\n",
       "\n",
       "    .dataframe thead th {\n",
       "        text-align: right;\n",
       "    }\n",
       "</style>\n",
       "<table border=\"1\" class=\"dataframe\">\n",
       "  <thead>\n",
       "    <tr style=\"text-align: right;\">\n",
       "      <th></th>\n",
       "      <th>Predicted Negative</th>\n",
       "      <th>Predicted Positive</th>\n",
       "    </tr>\n",
       "  </thead>\n",
       "  <tbody>\n",
       "    <tr>\n",
       "      <th>True Negative</th>\n",
       "      <td>396</td>\n",
       "      <td>17</td>\n",
       "    </tr>\n",
       "    <tr>\n",
       "      <th>True Positive</th>\n",
       "      <td>96</td>\n",
       "      <td>955</td>\n",
       "    </tr>\n",
       "  </tbody>\n",
       "</table>\n",
       "</div>"
      ],
      "text/plain": [
       "               Predicted Negative  Predicted Positive\n",
       "True Negative                 396                  17\n",
       "True Positive                  96                 955"
      ]
     },
     "execution_count": 43,
     "metadata": {},
     "output_type": "execute_result"
    }
   ],
   "source": [
    "# confusion matrix - this will take a few seconds\n",
    "\n",
    "y_pred_smote = smote_model.predict_classes(X_test)\n",
    "\n",
    "cm_smote = confusion_matrix(y_test, y_pred_smote)\n",
    "\n",
    "cm_smote_df = pd.DataFrame(\n",
    "    cm_smote,\n",
    "    columns=['Predicted Negative', 'Predicted Positive'],\n",
    "    index=['True Negative', 'True Positive']\n",
    ")\n",
    "\n",
    "cm_smote_df"
   ]
  },
  {
   "cell_type": "code",
   "execution_count": 44,
   "id": "610c22a6",
   "metadata": {},
   "outputs": [
    {
     "name": "stdout",
     "output_type": "stream",
     "text": [
      "Original model precision, recall: (96.72, 95.34)\n",
      "Weighted model precision, recall: (97.46000000000001, 94.77)\n",
      "SMOTE model precision, recall: (98.25, 90.86999999999999)\n"
     ]
    }
   ],
   "source": [
    "# precision and recall\n",
    "\n",
    "tp_s = cm_smote[1,1]\n",
    "tn_s = cm_smote[0,0]\n",
    "fp_s = cm_smote[0,1]\n",
    "fn_s = cm_smote[1,0]\n",
    "\n",
    "prec_smote = round(tp_s/(tp_s+fp_s), 4)*100\n",
    "rec_smote = round(tp_s/(tp_s+fn_s), 4)*100\n",
    "\n",
    "print(f'Original model precision, recall: {prec, rec}')\n",
    "print(f'Weighted model precision, recall: {prec_weight, rec_weight}')\n",
    "print(f'SMOTE model precision, recall: {prec_smote, rec_smote}')"
   ]
  },
  {
   "cell_type": "markdown",
   "id": "850d6241",
   "metadata": {},
   "source": [
    "# Splitting Positive Class into Bacterial and Viral Classes"
   ]
  },
  {
   "cell_type": "code",
   "execution_count": 45,
   "id": "198df20a",
   "metadata": {},
   "outputs": [],
   "source": [
    "# define import functions\n",
    "\n",
    "def load_negative(neg_path):\n",
    "    \n",
    "    neg_files = np.array(os.listdir(neg_path))\n",
    "    neg_labels = np.array(['negative']*len(neg_files))\n",
    "    \n",
    "    neg_images = []\n",
    "    \n",
    "    for image in neg_files:\n",
    "        try:\n",
    "            image = cv2.imread(neg_path + image)\n",
    "            image = cv2.resize(image, dsize=(img_size, img_size))\n",
    "            image = cv2.cvtColor(image, cv2.COLOR_BGR2GRAY)\n",
    "            neg_images.append(image)\n",
    "        except Exception:\n",
    "            pass\n",
    "        \n",
    "    neg_images = np.array(neg_images)\n",
    "    \n",
    "    return neg_images, neg_labels\n",
    "\n",
    "def load_positive(pos_path):\n",
    "    \n",
    "    pos_files = np.array(os.listdir(pos_path))\n",
    "    pos_labels = np.array([pos_file.split('_')[1] for pos_file in pos_files])\n",
    "    \n",
    "    pos_images = []\n",
    "    \n",
    "    for image in pos_files:\n",
    "        try:\n",
    "            image = cv2.imread(pos_path + image)\n",
    "            image = cv2.resize(image, dsize=(img_size, img_size))\n",
    "            image = cv2.cvtColor(image, cv2.COLOR_BGR2GRAY)\n",
    "            pos_images.append(image)\n",
    "        except Exception:\n",
    "            pass\n",
    "        \n",
    "    pos_images = np.array(pos_images)\n",
    "    \n",
    "    return pos_images, pos_labels"
   ]
  },
  {
   "cell_type": "code",
   "execution_count": 46,
   "id": "35a1cc96",
   "metadata": {},
   "outputs": [],
   "source": [
    "# import images and labels this will take roughly 20 seconds\n",
    "\n",
    "neg_images, neg_labels = load_negative('data/negative/')\n",
    "pos_images, pos_labels = load_positive('data/positive/')"
   ]
  },
  {
   "cell_type": "code",
   "execution_count": 47,
   "id": "ff8645a2",
   "metadata": {},
   "outputs": [
    {
     "name": "stdout",
     "output_type": "stream",
     "text": [
      "(5856, 245, 245) (5856,)\n",
      "(array(['bacteria', 'negative', 'virus'], dtype='<U8'), array([2780, 1583, 1493]))\n"
     ]
    }
   ],
   "source": [
    "# create X and y variables\n",
    "\n",
    "X2 = np.append(neg_images, pos_images, axis=0)\n",
    "y2 = np.append(neg_labels, pos_labels)\n",
    "\n",
    "# check\n",
    "\n",
    "print(X2.shape, y2.shape)\n",
    "print(np.unique(y2, return_counts=True))"
   ]
  },
  {
   "cell_type": "code",
   "execution_count": 98,
   "id": "a5225e26",
   "metadata": {},
   "outputs": [
    {
     "data": {
      "image/png": "[encoded data removed]",
      "text/plain": [
       "<Figure size 720x360 with 1 Axes>"
      ]
     },
     "metadata": {
      "needs_background": "light"
     },
     "output_type": "display_data"
    }
   ],
   "source": [
    "# visualize multiclass distribution\n",
    "\n",
    "plt.figure(figsize=(10,5))\n",
    "plt.bar(np.unique(y2, return_counts=True)[0], np.unique(y2, return_counts=True)[1])\n",
    "plt.title('Multiclass Distribution', size=20)\n",
    "plt.xlabel('Class', size=15)\n",
    "plt.ylabel('Count', size=15)\n",
    "plt.show()"
   ]
  },
  {
   "cell_type": "code",
   "execution_count": 48,
   "id": "9ee68425",
   "metadata": {},
   "outputs": [
    {
     "name": "stdout",
     "output_type": "stream",
     "text": [
      "(5856, 245, 245, 1)\n"
     ]
    }
   ],
   "source": [
    "# reshape X for model\n",
    "\n",
    "X2 = X2.reshape(X2.shape[0], 245, 245, 1)\n",
    "\n",
    "# check\n",
    "\n",
    "print(X2.shape)"
   ]
  },
  {
   "cell_type": "code",
   "execution_count": 49,
   "id": "0047fb16",
   "metadata": {},
   "outputs": [
    {
     "name": "stdout",
     "output_type": "stream",
     "text": [
      "(4392, 245, 245, 1) (4392,)\n",
      "(1464, 245, 245, 1) (1464,)\n"
     ]
    }
   ],
   "source": [
    "# split data\n",
    "\n",
    "X2_train, X2_test, y2_train, y2_test = train_test_split(X2, y2, test_size=0.25, random_state=42)\n",
    "\n",
    "# check\n",
    "\n",
    "print(X2_train.shape, y2_train.shape)\n",
    "print(X2_test.shape, y2_test.shape)"
   ]
  },
  {
   "cell_type": "code",
   "execution_count": 50,
   "id": "9c12744b",
   "metadata": {},
   "outputs": [
    {
     "name": "stdout",
     "output_type": "stream",
     "text": [
      "X range: 0.0-1.0\n"
     ]
    }
   ],
   "source": [
    "# scale\n",
    "\n",
    "X2_train = X2_train/255\n",
    "X2_test = X2_test/255\n",
    "\n",
    "# check\n",
    "\n",
    "print(f'X range: {X2_train.min()}-{X2_train.max()}')"
   ]
  },
  {
   "cell_type": "code",
   "execution_count": 51,
   "id": "5c022c0b",
   "metadata": {},
   "outputs": [],
   "source": [
    "# reshape y2_train and y2_test for encoder\n",
    "\n",
    "y2_train = y2_train[:, np.newaxis]\n",
    "y2_test = y2_test[:, np.newaxis]"
   ]
  },
  {
   "cell_type": "code",
   "execution_count": 52,
   "id": "8321b663",
   "metadata": {},
   "outputs": [],
   "source": [
    "# instantiate OHE\n",
    "\n",
    "ohe = OneHotEncoder(sparse=False)\n",
    "\n",
    "# encode labels for model\n",
    "\n",
    "y2_train = ohe.fit_transform(y2_train)\n",
    "y2_test = ohe.transform(y2_test)"
   ]
  },
  {
   "cell_type": "code",
   "execution_count": 53,
   "id": "cc768a50",
   "metadata": {},
   "outputs": [
    {
     "name": "stdout",
     "output_type": "stream",
     "text": [
      "(4392, 3) (1464, 3)\n"
     ]
    }
   ],
   "source": [
    "# check\n",
    "\n",
    "print(y2_train.shape, y2_test.shape)"
   ]
  },
  {
   "cell_type": "markdown",
   "id": "9c2f3d8a",
   "metadata": {},
   "source": [
    "# Multiple Positive Classes Modeling"
   ]
  },
  {
   "cell_type": "code",
   "execution_count": 57,
   "id": "5b436417",
   "metadata": {},
   "outputs": [
    {
     "name": "stdout",
     "output_type": "stream",
     "text": [
      "Model: \"sequential_6\"\n",
      "_________________________________________________________________\n",
      "Layer (type)                 Output Shape              Param #   \n",
      "=================================================================\n",
      "conv2d_12 (Conv2D)           (None, 243, 243, 32)      320       \n",
      "_________________________________________________________________\n",
      "max_pooling2d_12 (MaxPooling (None, 121, 121, 32)      0         \n",
      "_________________________________________________________________\n",
      "dropout_12 (Dropout)         (None, 121, 121, 32)      0         \n",
      "_________________________________________________________________\n",
      "conv2d_13 (Conv2D)           (None, 119, 119, 64)      18496     \n",
      "_________________________________________________________________\n",
      "max_pooling2d_13 (MaxPooling (None, 59, 59, 64)        0         \n",
      "_________________________________________________________________\n",
      "dropout_13 (Dropout)         (None, 59, 59, 64)        0         \n",
      "_________________________________________________________________\n",
      "flatten_6 (Flatten)          (None, 222784)            0         \n",
      "_________________________________________________________________\n",
      "dense_18 (Dense)             (None, 128)               28516480  \n",
      "_________________________________________________________________\n",
      "dense_19 (Dense)             (None, 64)                8256      \n",
      "_________________________________________________________________\n",
      "dense_20 (Dense)             (None, 3)                 195       \n",
      "=================================================================\n",
      "Total params: 28,543,747\n",
      "Trainable params: 28,543,747\n",
      "Non-trainable params: 0\n",
      "_________________________________________________________________\n"
     ]
    }
   ],
   "source": [
    "# instantiate new model\n",
    "\n",
    "mul_pos_model = Sequential()\n",
    "\n",
    "# add layers\n",
    "\n",
    "mul_pos_model.add(Conv2D(32, kernel_size=(3, 3), activation = 'relu', input_shape = (245, 245, 1)))\n",
    "mul_pos_model.add(MaxPooling2D(pool_size=(2, 2)))\n",
    "mul_pos_model.add(Dropout(0.25))\n",
    "\n",
    "mul_pos_model.add(Conv2D(64, (3, 3), activation='relu'))\n",
    "mul_pos_model.add(MaxPooling2D(pool_size=(2, 2)))\n",
    "mul_pos_model.add(Dropout(0.25))\n",
    "\n",
    "# flatten\n",
    "\n",
    "mul_pos_model.add(Flatten())\n",
    "\n",
    "# add dense layers\n",
    "\n",
    "mul_pos_model.add(Dense(128, activation='relu'))\n",
    "mul_pos_model.add(Dense(64, activation='relu'))\n",
    "mul_pos_model.add(Dense(3, activation='softmax'))\n",
    "\n",
    "# summary\n",
    "\n",
    "mul_pos_model.summary()"
   ]
  },
  {
   "cell_type": "code",
   "execution_count": 58,
   "id": "21a37aaf",
   "metadata": {},
   "outputs": [],
   "source": [
    "# compile\n",
    "\n",
    "mul_pos_model.compile(loss = 'categorical_crossentropy',\n",
    "                    optimizer = 'Adam',\n",
    "                    metrics = ['accuracy'])"
   ]
  },
  {
   "cell_type": "code",
   "execution_count": 59,
   "id": "1b81b80d",
   "metadata": {},
   "outputs": [
    {
     "name": "stdout",
     "output_type": "stream",
     "text": [
      "Epoch 1/10\n",
      "30/30 [==============================] - 119s 4s/step - loss: 3.5359 - accuracy: 0.3726 - val_loss: 1.0587 - val_accuracy: 0.4993\n",
      "Epoch 2/10\n",
      "30/30 [==============================] - 121s 4s/step - loss: 0.9720 - accuracy: 0.5436 - val_loss: 0.7094 - val_accuracy: 0.7090\n",
      "Epoch 3/10\n",
      "30/30 [==============================] - 110s 4s/step - loss: 0.6808 - accuracy: 0.7148 - val_loss: 0.5782 - val_accuracy: 0.7559\n",
      "Epoch 4/10\n",
      "30/30 [==============================] - 109s 4s/step - loss: 0.5411 - accuracy: 0.7751 - val_loss: 0.5483 - val_accuracy: 0.7683\n",
      "Epoch 5/10\n",
      "30/30 [==============================] - 109s 4s/step - loss: 0.4969 - accuracy: 0.7811 - val_loss: 0.5595 - val_accuracy: 0.7593\n",
      "Epoch 6/10\n",
      "30/30 [==============================] - 109s 4s/step - loss: 0.4924 - accuracy: 0.7867 - val_loss: 0.5280 - val_accuracy: 0.7814\n",
      "Epoch 7/10\n",
      "30/30 [==============================] - 112s 4s/step - loss: 0.4430 - accuracy: 0.8023 - val_loss: 0.5354 - val_accuracy: 0.7772\n",
      "Epoch 8/10\n",
      "30/30 [==============================] - 110s 4s/step - loss: 0.4018 - accuracy: 0.8374 - val_loss: 0.5512 - val_accuracy: 0.7834\n",
      "Epoch 9/10\n",
      "30/30 [==============================] - 110s 4s/step - loss: 0.3826 - accuracy: 0.8357 - val_loss: 0.5688 - val_accuracy: 0.7648\n",
      "Epoch 10/10\n",
      "30/30 [==============================] - 109s 4s/step - loss: 0.3636 - accuracy: 0.8532 - val_loss: 0.5360 - val_accuracy: 0.7793\n"
     ]
    },
    {
     "data": {
      "text/plain": [
       "<tensorflow.python.keras.callbacks.History at 0x7fb66471f640>"
      ]
     },
     "execution_count": 59,
     "metadata": {},
     "output_type": "execute_result"
    }
   ],
   "source": [
    "# train - this will take 15-20 minutes\n",
    "\n",
    "mul_pos_model.fit(X2_train, y2_train,\n",
    "                batch_size = 100,\n",
    "                epochs = 10,\n",
    "                verbose = 1,\n",
    "                validation_split = 0.33)"
   ]
  },
  {
   "cell_type": "markdown",
   "id": "81eb1bf7",
   "metadata": {},
   "source": [
    "# Evaluating Multiclass Model"
   ]
  },
  {
   "cell_type": "code",
   "execution_count": 60,
   "id": "5111fc5a",
   "metadata": {},
   "outputs": [
    {
     "name": "stdout",
     "output_type": "stream",
     "text": [
      "Multiclass test loss: 0.5468177795410156\n",
      "Multiclass test accuracy: 0.7704917788505554\n"
     ]
    }
   ],
   "source": [
    "# accuracy score - this will take a few seconds\n",
    "\n",
    "mul_pos_score = mul_pos_model.evaluate(X2_test, y2_test, verbose=0)\n",
    "\n",
    "print(f'Multiclass test loss: {mul_pos_score[0]}')\n",
    "print(f'Multiclass test accuracy: {mul_pos_score[1]}')"
   ]
  },
  {
   "cell_type": "code",
   "execution_count": 61,
   "id": "9631c29f",
   "metadata": {},
   "outputs": [],
   "source": [
    "# predict - this will take a few seconds\n",
    "\n",
    "y2_pred = mul_pos_model.predict(X2_test)\n",
    "\n",
    "# revert to class labels\n",
    "\n",
    "y2_pred = ohe.inverse_transform(y2_pred)\n",
    "\n",
    "y2_test_labels = ohe.inverse_transform(y2_test)"
   ]
  },
  {
   "cell_type": "code",
   "execution_count": 62,
   "id": "79a44e7b",
   "metadata": {
    "scrolled": false
   },
   "outputs": [
    {
     "data": {
      "image/png": "[encoded data removed]",
      "text/plain": [
       "<Figure size 720x504 with 1 Axes>"
      ]
     },
     "metadata": {
      "needs_background": "light"
     },
     "output_type": "display_data"
    }
   ],
   "source": [
    "# visualize confusion matrix\n",
    "\n",
    "mul_pos_cm = confusion_matrix(y2_test_labels, y2_pred)\n",
    "\n",
    "plt.figure(figsize=(10,7))\n",
    "sns.heatmap(mul_pos_cm, xticklabels=['bacteria', 'negative', 'virus'], yticklabels=['bacteria', 'negative', 'virus'], fmt='d', annot=True, cbar=False, cmap='rocket_r')\n",
    "plt.title('Multiclass Confusion Matrix', size=20)\n",
    "plt.xlabel('Predicted', size=20)\n",
    "plt.ylabel('True', size=20)\n",
    "plt.show()"
   ]
  },
  {
   "cell_type": "code",
   "execution_count": 63,
   "id": "58422cb2",
   "metadata": {},
   "outputs": [
    {
     "name": "stdout",
     "output_type": "stream",
     "text": [
      "              precision    recall  f1-score   support\n",
      "\n",
      "    bacteria     0.7820    0.7961    0.7890       667\n",
      "    negative     0.8625    0.9306    0.8953       418\n",
      "       virus     0.6228    0.5488    0.5835       379\n",
      "\n",
      "    accuracy                         0.7705      1464\n",
      "   macro avg     0.7558    0.7585    0.7559      1464\n",
      "weighted avg     0.7638    0.7705    0.7661      1464\n",
      "\n"
     ]
    }
   ],
   "source": [
    "# calculate metrics\n",
    "\n",
    "print(classification_report(y2_test_labels, y2_pred, digits=4))"
   ]
  },
  {
   "cell_type": "code",
   "execution_count": 64,
   "id": "eab23975",
   "metadata": {},
   "outputs": [
    {
     "name": "stdout",
     "output_type": "stream",
     "text": [
      "Basic model test accuracy: 0.943306028842926\n",
      "Weighted model test accuracy: 0.9446721076965332\n",
      "SMOTE model test accuracy: 0.9228141903877258\n",
      "Multiclass model test accuracy: 0.7704917788505554\n"
     ]
    }
   ],
   "source": [
    "# comparing accuracy\n",
    "\n",
    "print(f'Basic model test accuracy: {score[1]}')\n",
    "print(f'Weighted model test accuracy: {weighted_score[1]}')\n",
    "print(f'SMOTE model test accuracy: {smote_score[1]}')\n",
    "print(f'Multiclass model test accuracy: {mul_pos_score[1]}')"
   ]
  },
  {
   "cell_type": "markdown",
   "id": "bdb7371c",
   "metadata": {},
   "source": [
    "# Modeling Only Positive Classes"
   ]
  },
  {
   "cell_type": "code",
   "execution_count": 100,
   "id": "9c3c1551",
   "metadata": {},
   "outputs": [
    {
     "name": "stdout",
     "output_type": "stream",
     "text": [
      "(4273, 245, 245) (4273,)\n",
      "(array(['bacteria', 'virus'], dtype='<U8'), array([2780, 1493]))\n"
     ]
    }
   ],
   "source": [
    "# create X and y variables\n",
    "\n",
    "X_pos = pos_images\n",
    "y_pos = pos_labels\n",
    "\n",
    "# check shape\n",
    "\n",
    "print(X_pos.shape, y_pos.shape)\n",
    "print(np.unique(y_pos, return_counts=True))"
   ]
  },
  {
   "cell_type": "code",
   "execution_count": 101,
   "id": "227d0af2",
   "metadata": {},
   "outputs": [
    {
     "data": {
      "image/png": "[encoded data removed]",
      "text/plain": [
       "<Figure size 720x360 with 1 Axes>"
      ]
     },
     "metadata": {
      "needs_background": "light"
     },
     "output_type": "display_data"
    }
   ],
   "source": [
    "# visualize class distribution\n",
    "\n",
    "plt.figure(figsize=(10,5))\n",
    "plt.bar(np.unique(y_pos, return_counts=True)[0], np.unique(y_pos, return_counts=True)[1])\n",
    "plt.title('Positive Class Distribution', size=20)\n",
    "plt.xlabel('Class', size=15)\n",
    "plt.ylabel('Count', size=15)\n",
    "plt.show()"
   ]
  },
  {
   "cell_type": "code",
   "execution_count": 102,
   "id": "aabc1806",
   "metadata": {},
   "outputs": [
    {
     "name": "stdout",
     "output_type": "stream",
     "text": [
      "(4273, 245, 245, 1)\n"
     ]
    }
   ],
   "source": [
    "# reshape X for model\n",
    "\n",
    "X_pos = X_pos.reshape(X_pos.shape[0], 245, 245, 1)\n",
    "\n",
    "# check\n",
    "\n",
    "print(X_pos.shape)"
   ]
  },
  {
   "cell_type": "code",
   "execution_count": 103,
   "id": "b41a3777",
   "metadata": {},
   "outputs": [
    {
     "name": "stdout",
     "output_type": "stream",
     "text": [
      "(3204, 245, 245, 1) (3204,)\n",
      "(1069, 245, 245, 1) (1069,)\n"
     ]
    }
   ],
   "source": [
    "# split data\n",
    "\n",
    "X_pos_train, X_pos_test, y_pos_train, y_pos_test = train_test_split(X_pos, y_pos, test_size=0.25, random_state=42)\n",
    "\n",
    "# check\n",
    "\n",
    "print(X_pos_train.shape, y_pos_train.shape)\n",
    "print(X_pos_test.shape, y_pos_test.shape)"
   ]
  },
  {
   "cell_type": "code",
   "execution_count": 104,
   "id": "2e0cc059",
   "metadata": {},
   "outputs": [
    {
     "name": "stdout",
     "output_type": "stream",
     "text": [
      "X range: 0.0-1.0\n"
     ]
    }
   ],
   "source": [
    "# scale\n",
    "\n",
    "X_pos_train = X_pos_train/255\n",
    "X_pos_test = X_pos_test/255\n",
    "\n",
    "# check\n",
    "\n",
    "print(f'X range: {X_pos_train.min()}-{X_pos_train.max()}')"
   ]
  },
  {
   "cell_type": "code",
   "execution_count": 105,
   "id": "c6637748",
   "metadata": {},
   "outputs": [],
   "source": [
    "# reshape y to encode\n",
    "\n",
    "y_pos_train = y_pos_train[:, np.newaxis]\n",
    "y_pos_test = y_pos_test[:, np.newaxis]"
   ]
  },
  {
   "cell_type": "code",
   "execution_count": 106,
   "id": "6ef9085e",
   "metadata": {},
   "outputs": [
    {
     "name": "stdout",
     "output_type": "stream",
     "text": [
      "(3204, 2) (1069, 2)\n"
     ]
    }
   ],
   "source": [
    "# instantiate OHE\n",
    "\n",
    "ohe = OneHotEncoder(sparse=False)\n",
    "\n",
    "# encode labels for model\n",
    "\n",
    "y_pos_train = ohe.fit_transform(y_pos_train)\n",
    "y_pos_test = ohe.transform(y_pos_test)\n",
    "\n",
    "# check\n",
    "\n",
    "print(y_pos_train.shape, y_pos_test.shape)"
   ]
  },
  {
   "cell_type": "code",
   "execution_count": 111,
   "id": "c74fc921",
   "metadata": {},
   "outputs": [
    {
     "name": "stdout",
     "output_type": "stream",
     "text": [
      "Model: \"sequential_8\"\n",
      "_________________________________________________________________\n",
      "Layer (type)                 Output Shape              Param #   \n",
      "=================================================================\n",
      "conv2d_16 (Conv2D)           (None, 243, 243, 32)      320       \n",
      "_________________________________________________________________\n",
      "max_pooling2d_16 (MaxPooling (None, 121, 121, 32)      0         \n",
      "_________________________________________________________________\n",
      "dropout_16 (Dropout)         (None, 121, 121, 32)      0         \n",
      "_________________________________________________________________\n",
      "conv2d_17 (Conv2D)           (None, 119, 119, 64)      18496     \n",
      "_________________________________________________________________\n",
      "max_pooling2d_17 (MaxPooling (None, 59, 59, 64)        0         \n",
      "_________________________________________________________________\n",
      "dropout_17 (Dropout)         (None, 59, 59, 64)        0         \n",
      "_________________________________________________________________\n",
      "flatten_8 (Flatten)          (None, 222784)            0         \n",
      "_________________________________________________________________\n",
      "dense_24 (Dense)             (None, 128)               28516480  \n",
      "_________________________________________________________________\n",
      "dense_25 (Dense)             (None, 64)                8256      \n",
      "_________________________________________________________________\n",
      "dense_26 (Dense)             (None, 2)                 130       \n",
      "=================================================================\n",
      "Total params: 28,543,682\n",
      "Trainable params: 28,543,682\n",
      "Non-trainable params: 0\n",
      "_________________________________________________________________\n"
     ]
    }
   ],
   "source": [
    "# instantiate model\n",
    "\n",
    "positive_model = Sequential()\n",
    "\n",
    "# add layers\n",
    "\n",
    "positive_model.add(Conv2D(32, kernel_size=(3, 3), activation = 'relu', input_shape = (245, 245, 1)))\n",
    "positive_model.add(MaxPooling2D(pool_size=(2, 2)))\n",
    "positive_model.add(Dropout(0.25))\n",
    "\n",
    "positive_model.add(Conv2D(64, (3, 3), activation='relu'))\n",
    "positive_model.add(MaxPooling2D(pool_size=(2, 2)))\n",
    "positive_model.add(Dropout(0.25))\n",
    "\n",
    "# flatten\n",
    "\n",
    "positive_model.add(Flatten())\n",
    "\n",
    "# add dense layers\n",
    "\n",
    "positive_model.add(Dense(128, activation='relu'))\n",
    "positive_model.add(Dense(64, activation='relu'))\n",
    "positive_model.add(Dense(2, activation='softmax'))\n",
    "\n",
    "# summary\n",
    "\n",
    "positive_model.summary()"
   ]
  },
  {
   "cell_type": "code",
   "execution_count": 112,
   "id": "7129e49e",
   "metadata": {},
   "outputs": [],
   "source": [
    "# compile\n",
    "\n",
    "positive_model.compile(loss = 'binary_crossentropy',\n",
    "                    optimizer = 'Adam',\n",
    "                    metrics = ['accuracy'])"
   ]
  },
  {
   "cell_type": "code",
   "execution_count": 113,
   "id": "fc5e4aa0",
   "metadata": {},
   "outputs": [
    {
     "name": "stdout",
     "output_type": "stream",
     "text": [
      "Epoch 1/10\n",
      "22/22 [==============================] - 87s 4s/step - loss: 1.1749 - accuracy: 0.5745 - val_loss: 0.6895 - val_accuracy: 0.6257\n",
      "Epoch 2/10\n",
      "22/22 [==============================] - 86s 4s/step - loss: 0.6603 - accuracy: 0.6560 - val_loss: 0.6391 - val_accuracy: 0.6437\n",
      "Epoch 3/10\n",
      "22/22 [==============================] - 86s 4s/step - loss: 0.5936 - accuracy: 0.6823 - val_loss: 0.5194 - val_accuracy: 0.7665\n",
      "Epoch 4/10\n",
      "22/22 [==============================] - 87s 4s/step - loss: 0.5358 - accuracy: 0.7448 - val_loss: 0.5048 - val_accuracy: 0.7703\n",
      "Epoch 5/10\n",
      "22/22 [==============================] - 86s 4s/step - loss: 0.4737 - accuracy: 0.7746 - val_loss: 0.5535 - val_accuracy: 0.7609\n",
      "Epoch 6/10\n",
      "22/22 [==============================] - 85s 4s/step - loss: 0.5011 - accuracy: 0.7655 - val_loss: 0.5095 - val_accuracy: 0.7788\n",
      "Epoch 7/10\n",
      "22/22 [==============================] - 86s 4s/step - loss: 0.4492 - accuracy: 0.7885 - val_loss: 0.5236 - val_accuracy: 0.7647\n",
      "Epoch 8/10\n",
      "22/22 [==============================] - 85s 4s/step - loss: 0.4697 - accuracy: 0.7636 - val_loss: 0.5532 - val_accuracy: 0.6985\n",
      "Epoch 9/10\n",
      "22/22 [==============================] - 85s 4s/step - loss: 0.4780 - accuracy: 0.7660 - val_loss: 0.5058 - val_accuracy: 0.7628\n",
      "Epoch 10/10\n",
      "22/22 [==============================] - 86s 4s/step - loss: 0.4160 - accuracy: 0.8155 - val_loss: 0.5057 - val_accuracy: 0.7647\n"
     ]
    },
    {
     "data": {
      "text/plain": [
       "<tensorflow.python.keras.callbacks.History at 0x7fb64888ddf0>"
      ]
     },
     "execution_count": 113,
     "metadata": {},
     "output_type": "execute_result"
    }
   ],
   "source": [
    "# train - this will take 15-20 minutes\n",
    "\n",
    "positive_model.fit(X_pos_train, y_pos_train,\n",
    "                batch_size = 100,\n",
    "                epochs = 10,\n",
    "                verbose = 1,\n",
    "                validation_split = 0.33)"
   ]
  },
  {
   "cell_type": "code",
   "execution_count": 120,
   "id": "87944897",
   "metadata": {},
   "outputs": [
    {
     "name": "stdout",
     "output_type": "stream",
     "text": [
      "Multiclass test loss: 0.4837481379508972\n",
      "Multiclass test accuracy: 0.7717493176460266\n"
     ]
    }
   ],
   "source": [
    "# score - this will take a few seconds\n",
    "\n",
    "pos_score = positive_model.evaluate(X_pos_test, y_pos_test, verbose=0)\n",
    "\n",
    "print(f'Multiclass test loss: {pos_score[0]}')\n",
    "print(f'Multiclass test accuracy: {pos_score[1]}')"
   ]
  },
  {
   "cell_type": "code",
   "execution_count": 118,
   "id": "f11fa393",
   "metadata": {},
   "outputs": [],
   "source": [
    "# predict - this will take a few seconds\n",
    "\n",
    "y_pos_pred = positive_model.predict(X_pos_test)\n",
    "\n",
    "# revert to class labels\n",
    "\n",
    "y_pos_pred = ohe.inverse_transform(y_pos_pred)\n",
    "\n",
    "y_pos_test_labels = ohe.inverse_transform(y_pos_test)"
   ]
  },
  {
   "cell_type": "code",
   "execution_count": 119,
   "id": "7bec1279",
   "metadata": {},
   "outputs": [
    {
     "data": {
      "image/png": "[encoded data removed]",
      "text/plain": [
       "<Figure size 720x504 with 1 Axes>"
      ]
     },
     "metadata": {
      "needs_background": "light"
     },
     "output_type": "display_data"
    }
   ],
   "source": [
    "# visualize confusion matrix\n",
    "\n",
    "positive_cm = confusion_matrix(y_pos_test_labels, y_pos_pred)\n",
    "\n",
    "plt.figure(figsize=(10,7))\n",
    "sns.heatmap(positive_cm, xticklabels=['bacteria', 'virus'], yticklabels=['bacteria', 'virus'], fmt='d', annot=True, cbar=False, cmap='rocket_r')\n",
    "plt.title('Pneumonia-Only Confusion Matrix', size=20)\n",
    "plt.xlabel('Predicted', size=20)\n",
    "plt.ylabel('True', size=20)\n",
    "plt.show()"
   ]
  },
  {
   "cell_type": "code",
   "execution_count": 121,
   "id": "be395598",
   "metadata": {},
   "outputs": [
    {
     "name": "stdout",
     "output_type": "stream",
     "text": [
      "Basic model test accuracy: 0.943306028842926\n",
      "Weighted model test accuracy: 0.9446721076965332\n",
      "SMOTE model test accuracy: 0.9228141903877258\n",
      "Multiclass model test accuracy: 0.7704917788505554\n",
      "Positive-Only model test accuracy: 0.7717493176460266\n"
     ]
    }
   ],
   "source": [
    "# compare models\n",
    "\n",
    "print(f'Basic model test accuracy: {score[1]}')\n",
    "print(f'Weighted model test accuracy: {weighted_score[1]}')\n",
    "print(f'SMOTE model test accuracy: {smote_score[1]}')\n",
    "print(f'Multiclass model test accuracy: {mul_pos_score[1]}')\n",
    "print(f'Positive-Only model test accuracy: {pos_score[1]}')"
   ]
  },
  {
   "cell_type": "code",
   "execution_count": null,
   "id": "1d8eb742",
   "metadata": {},
   "outputs": [],
   "source": []
  }
 ],
 "metadata": {
  "kernelspec": {
   "display_name": "deeplearning",
   "language": "python",
   "name": "deeplearning"
  },
  "language_info": {
   "codemirror_mode": {
    "name": "ipython",
    "version": 3
   },
   "file_extension": ".py",
   "mimetype": "text/x-python",
   "name": "python",
   "nbconvert_exporter": "python",
   "pygments_lexer": "ipython3",
   "version": "3.8.2"
  }
 },
 "nbformat": 4,
 "nbformat_minor": 5
}
